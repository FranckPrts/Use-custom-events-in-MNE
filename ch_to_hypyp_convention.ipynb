{
 "cells": [
  {
   "cell_type": "markdown",
   "metadata": {},
   "source": [
    "### Change channel names to HyPyP convention"
   ]
  },
  {
   "cell_type": "markdown",
   "metadata": {},
   "source": [
    "Hypyp expects the dyadic data to be stored in a merged object (i.e., containing all n channels for each participant) and comply with HyPyP's channel naming convention to distinguish between the two participants' channels.\n",
    "\n",
    "HyPyPs' channel naming convention consists of a ***suffix*** in the channel name to differentiate each subject (e.g., `_S1` or `_S2`).\n",
    "\n",
    "Our data currently has a ***prefix*** for each participant's channel (e.g., 1- for subject 1 and 2- for subject two; see below). "
   ]
  },
  {
   "cell_type": "code",
   "execution_count": 5,
   "metadata": {},
   "outputs": [
    {
     "name": "stdout",
     "output_type": "stream",
     "text": [
      "First 6 channels:  ['1-Fp1', '1-AF3', '1-F7', '1-F3', '1-FC1', '1-FC5']\n",
      "Last 6 channels:  ['2-AF4', '2-Fp2', '2-Fz', '2-Cz']\n"
     ]
    }
   ],
   "source": [
    "# Observe all channel names\n",
    "# raw.info['ch_names]\n",
    "\n",
    "print(\"First 6 channels: \", raw.ch_names[:6])\n",
    "print(\"Last 6 channels: \", raw.ch_names[60:])"
   ]
  },
  {
   "cell_type": "markdown",
   "metadata": {},
   "source": [
    "To respect the HyPyP's convention, we will \n",
    "* remove the prefix in both participants\n",
    "* add to both participants their corresponding suffix\n",
    "* create a replacement dictionary to feed to the [mne.Raw.rename_channels()](https://mne.tools/stable/generated/mne.io.Raw.html?highlight=raw#mne.io.Raw.rename_channels) method and execute the name change\n",
    "\n",
    "> ❗️ Do not try changing the channel's names yourself by just replacing their name directly in the `Raw` (see [this discourse thread](https://mne.discourse.group/t/set-montage-info-channel-name-inconsistency-error/3881) to learn why)."
   ]
  },
  {
   "cell_type": "code",
   "execution_count": 6,
   "metadata": {},
   "outputs": [],
   "source": [
    "# Store the ch names of each participant in their lists \n",
    "s1_chans_old = [i for i in raw.ch_names if re.search(r'1-', i) ]\n",
    "s2_chans_old = [i for i in raw.ch_names if re.search(r'2-', i) ]\n",
    "\n",
    "# Just checking that the adult has 2 additional channel compared to the kid ('EXG1_S1', 'EXG2_S1')\n",
    "# assert len(s1_chans_old) == len(s2_chans_old) + 2, \"The channel lists have different sizes\"  # With the EOG\n",
    "assert len(s1_chans_old) == len(s2_chans_old), \"The channel lists have different sizes\" # Without the EOG"
   ]
  },
  {
   "cell_type": "code",
   "execution_count": 7,
   "metadata": {},
   "outputs": [
    {
     "name": "stdout",
     "output_type": "stream",
     "text": [
      "s1_chans:  ['Fp1_S1', 'AF3_S1', 'F7_S1', 'F3_S1', 'FC1_S1', 'FC5_S1', 'T7_S1', 'C3_S1', 'CP1_S1', 'CP5_S1', 'P7_S1', 'P3_S1', 'Pz_S1', 'PO3_S1', 'O1_S1', 'Oz_S1', 'O2_S1', 'PO4_S1', 'P4_S1', 'P8_S1', 'CP6_S1', 'CP2_S1', 'C4_S1', 'T8_S1', 'FC6_S1', 'FC2_S1', 'F4_S1', 'F8_S1', 'AF4_S1', 'Fp2_S1', 'Fz_S1', 'Cz_S1']\n",
      "\n",
      "s2_chans:  ['Fp1_S2', 'AF3_S2', 'F7_S2', 'F3_S2', 'FC1_S2', 'FC5_S2', 'T7_S2', 'C3_S2', 'CP1_S2', 'CP5_S2', 'P7_S2', 'P3_S2', 'Pz_S2', 'PO3_S2', 'O1_S2', 'Oz_S2', 'O2_S2', 'PO4_S2', 'P4_S2', 'P8_S2', 'CP6_S2', 'CP2_S2', 'C4_S2', 'T8_S2', 'FC6_S2', 'FC2_S2', 'F4_S2', 'F8_S2', 'AF4_S2', 'Fp2_S2', 'Fz_S2', 'Cz_S2']\n"
     ]
    }
   ],
   "source": [
    "# Remove the suffix \"2\" in the 2nd participant's ch_names\n",
    "# Add the suffixes for both participant's ch_names\n",
    "\n",
    "def to_hypyp_convention(chan_list, suffix):\n",
    "    tmp_list = list()\n",
    "    for chan in range(len(chan_list)):\n",
    "        tmp_list.append(chan_list[chan][2:] + suffix)\n",
    "    return tmp_list\n",
    "\n",
    "s1_chans_new = to_hypyp_convention(s1_chans_old, '_S1')\n",
    "s2_chans_new = to_hypyp_convention(s2_chans_old, '_S2')\n",
    "\n",
    "\n",
    "print('s1_chans: ', s1_chans_new)\n",
    "print('\\ns2_chans: ', s2_chans_new)"
   ]
  },
  {
   "cell_type": "code",
   "execution_count": 8,
   "metadata": {},
   "outputs": [],
   "source": [
    "# We now create the remplacement dictionnary\n",
    "change_ch_names_dic_S1 = dict(zip(s1_chans_old, s1_chans_new))\n",
    "change_ch_names_dic_S2 = dict(zip(s2_chans_old, s2_chans_new))\n",
    "\n",
    "change_ch_names_dic_S1.update(change_ch_names_dic_S2)"
   ]
  },
  {
   "cell_type": "code",
   "execution_count": 9,
   "metadata": {},
   "outputs": [
    {
     "data": {
      "text/html": [
       "\n",
       "\n",
       "<table class=\"table table-hover table-striped table-sm table-responsive small\">\n",
       "    <tr>\n",
       "        <th>Measurement date</th>\n",
       "        <td>December 03, 2018  12:00:32 GMT</td>\n",
       "        \n",
       "    </tr>\n",
       "    <tr>\n",
       "        <th>Experimenter</th>\n",
       "<td>Unknown</td>\n",
       "    </tr>\n",
       "        <th>Participant</th>\n",
       "<td>Unknown</td>\n",
       "    </tr>\n",
       "    <tr>\n",
       "        <th>Digitized points</th>\n",
       "        <td>Not available</td>\n",
       "    </tr>\n",
       "    <tr>\n",
       "        <th>Good channels</th>\n",
       "        <td>64 EEG</td>\n",
       "    </tr>\n",
       "    <tr>\n",
       "        <th>Bad channels</th>\n",
       "        <td>None</td>\n",
       "    </tr>\n",
       "    <tr>\n",
       "        <th>EOG channels</th>\n",
       "        <td>Not available</td>\n",
       "    </tr>\n",
       "    <tr>\n",
       "        <th>ECG channels</th>\n",
       "        <td>Not available</td>\n",
       "    <tr>\n",
       "        <th>Sampling frequency</th>\n",
       "        <td>512.00 Hz</td>\n",
       "    </tr>\n",
       "    <tr>\n",
       "        <th>Highpass</th>\n",
       "        <td>0.00 Hz</td>\n",
       "    </tr>\n",
       "    <tr>\n",
       "        <th>Lowpass</th>\n",
       "        <td>104.00 Hz</td>\n",
       "    </tr>\n",
       "\n",
       "    <tr>\n",
       "        <th>Filenames</th>\n",
       "        <td>W2W_2606_movie.bdf</td>\n",
       "    </tr>\n",
       "    <tr>\n",
       "        <th>Duration</th>\n",
       "        <td>00:05:07 (HH:MM:SS)</td>\n",
       "    </tr>\n",
       "</table>\n"
      ],
      "text/plain": [
       "<RawEDF | W2W_2606_movie.bdf, 64 x 157696 (308.0 s), ~77.1 MB, data loaded>"
      ]
     },
     "execution_count": 9,
     "metadata": {},
     "output_type": "execute_result"
    }
   ],
   "source": [
    "raw.rename_channels(change_ch_names_dic_S1)"
   ]
  }
 ],
 "metadata": {
  "interpreter": {
   "hash": "9d93afb8cdc34b2bdea5bf079bccd93013ea04d457e334f9ae90fb664fbdee86"
  },
  "kernelspec": {
   "display_name": "Python 3 (ipykernel)",
   "language": "python",
   "name": "python3"
  },
  "language_info": {
   "codemirror_mode": {
    "name": "ipython",
    "version": 3
   },
   "file_extension": ".py",
   "mimetype": "text/x-python",
   "name": "python",
   "nbconvert_exporter": "python",
   "pygments_lexer": "ipython3",
   "version": "3.8.8"
  }
 },
 "nbformat": 4,
 "nbformat_minor": 2
}
